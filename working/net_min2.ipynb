{
 "cells": [
  {
   "cell_type": "code",
   "execution_count": 32,
   "id": "7c831638-c357-474c-9913-326593f9d1d9",
   "metadata": {
    "execution": {
     "iopub.execute_input": "2025-03-10T15:50:19.964640Z",
     "iopub.status.busy": "2025-03-10T15:50:19.963427Z",
     "iopub.status.idle": "2025-03-10T15:50:41.127836Z",
     "shell.execute_reply": "2025-03-10T15:50:41.126263Z",
     "shell.execute_reply.started": "2025-03-10T15:50:19.964592Z"
    }
   },
   "outputs": [],
   "source": [
    "import pandas as pd\n",
    "\n",
    "try:\n",
    "    del train\n",
    "except NameError:\n",
    "    pass\n",
    "\n",
    "print(f\"reading train.csv\")\n",
    "train = pd.read_csv(\"../datasets/net/train.csv\")\n",
    "\n",
    "train = pd.concat(\n",
    "    [\n",
    "        train.select_dtypes(\"int64\").astype(\"int32\"),\n",
    "        train.select_dtypes(\"float64\").astype(\"float32\"),\n",
    "    ],\n",
    "    axis=1,\n",
    ")\n",
    "\n",
    "print(f\"\\ntrain: {str(train.shape):>23}\")"
   ]
  },
  {
   "cell_type": "code",
   "execution_count": 33,
   "id": "798fd87f-9cf0-4e1f-9b61-893059840a6a",
   "metadata": {
    "execution": {
     "iopub.execute_input": "2025-03-10T15:50:41.131155Z",
     "iopub.status.busy": "2025-03-10T15:50:41.130647Z",
     "iopub.status.idle": "2025-03-10T15:50:41.138093Z",
     "shell.execute_reply": "2025-03-10T15:50:41.136338Z",
     "shell.execute_reply.started": "2025-03-10T15:50:41.131113Z"
    }
   },
   "outputs": [],
   "source": [
    "import torch\n",
    "\n",
    "try:\n",
    "    del device\n",
    "except NameError:\n",
    "    pass\n",
    "\n",
    "device = \"cuda\" if torch.cuda.is_available() else \"cpu\""
   ]
  },
  {
   "cell_type": "code",
   "execution_count": 34,
   "id": "d2927d4b-8b36-4c2b-a795-25cf31f89f93",
   "metadata": {
    "execution": {
     "iopub.execute_input": "2025-03-10T15:50:41.142200Z",
     "iopub.status.busy": "2025-03-10T15:50:41.141006Z",
     "iopub.status.idle": "2025-03-10T15:50:42.885790Z",
     "shell.execute_reply": "2025-03-10T15:50:42.884376Z",
     "shell.execute_reply.started": "2025-03-10T15:50:41.142147Z"
    }
   },
   "outputs": [
    {
     "name": "stdout",
     "output_type": "stream",
     "text": [
      "X_df:            (202033, 408)\n",
      "X:    torch.Size([202033, 408])\n",
      "y_df:            (202033, 1)\n",
      "y:    torch.Size([202033])\n"
     ]
    }
   ],
   "source": [
    "from sklearn.preprocessing import StandardScaler\n",
    "\n",
    "try:\n",
    "    del X_df, X, y_df, y\n",
    "except NameError:\n",
    "    pass\n",
    "\n",
    "X_df = train.drop(columns=[\"Season\", \"DayNum\", \"TeamID_1\", \"TeamID_2\", \"Margin\"])\n",
    "print(f\"X_df: {str(X_df.shape):>24}\")\n",
    "\n",
    "X = torch.as_tensor(\n",
    "    StandardScaler().fit_transform(X_df.values),\n",
    "    dtype=torch.float32,\n",
    "    device=device,\n",
    ")\n",
    "\n",
    "print(f\"X:    {X.shape}\")\n",
    "\n",
    "y_df = train[[\"Margin\"]]\n",
    "print(f\"y_df: {str(y_df.shape):>22}\")\n",
    "scaler_y = StandardScaler()\n",
    "\n",
    "y = torch.tensor(\n",
    "    scaler_y.fit_transform(y_df).flatten(),\n",
    "    dtype=torch.float32,\n",
    "    device=device,\n",
    ")\n",
    "\n",
    "print(f\"y:    {y.shape}\")"
   ]
  },
  {
   "cell_type": "code",
   "execution_count": 35,
   "id": "a4b9f99f-7e01-41e1-b8d8-94be5d26efa1",
   "metadata": {
    "execution": {
     "iopub.execute_input": "2025-03-10T15:50:42.887796Z",
     "iopub.status.busy": "2025-03-10T15:50:42.887358Z",
     "iopub.status.idle": "2025-03-10T15:50:42.895464Z",
     "shell.execute_reply": "2025-03-10T15:50:42.894115Z",
     "shell.execute_reply.started": "2025-03-10T15:50:42.887757Z"
    }
   },
   "outputs": [],
   "source": [
    "import numpy as np\n",
    "\n",
    "\n",
    "def brier_score(y_pred, y_true):\n",
    "    win_prob = 1 / (1 + np.exp(-y_pred * 0.25))\n",
    "    team_1_won = (y_true > 0).astype(float)\n",
    "    return np.mean((win_prob - team_1_won) ** 2)"
   ]
  },
  {
   "cell_type": "code",
   "execution_count": 36,
   "id": "c69aaa4d-8727-428a-a751-ecf49c0f711c",
   "metadata": {
    "execution": {
     "iopub.execute_input": "2025-03-10T15:50:42.899135Z",
     "iopub.status.busy": "2025-03-10T15:50:42.898678Z",
     "iopub.status.idle": "2025-03-10T15:50:42.907683Z",
     "shell.execute_reply": "2025-03-10T15:50:42.905442Z",
     "shell.execute_reply.started": "2025-03-10T15:50:42.899096Z"
    }
   },
   "outputs": [],
   "source": [
    "from sklearn.model_selection import KFold\n",
    "\n",
    "try:\n",
    "    del kfold\n",
    "except NameError:\n",
    "    pass\n",
    "\n",
    "kfold = KFold(shuffle=True, random_state=42)"
   ]
  },
  {
   "cell_type": "code",
   "execution_count": 37,
   "id": "5da53c98-c616-4e83-9e0d-0d732e0eeb59",
   "metadata": {
    "execution": {
     "iopub.execute_input": "2025-03-10T15:50:42.909055Z",
     "iopub.status.busy": "2025-03-10T15:50:42.908719Z",
     "iopub.status.idle": "2025-03-10T15:50:55.176596Z",
     "shell.execute_reply": "2025-03-10T15:50:55.175552Z",
     "shell.execute_reply.started": "2025-03-10T15:50:42.909021Z"
    }
   },
   "outputs": [
    {
     "name": "stdout",
     "output_type": "stream",
     "text": [
      "fold 0\n",
      "  epoch 0: fold=3.2284 oof=3.2145\n",
      "  epoch 10: fold=3.1357 oof=3.1223\n",
      "  epoch 20: fold=3.0462 oof=3.0334\n",
      "  epoch 30: fold=2.9604 oof=2.9481\n",
      "  epoch 40: fold=2.8784 oof=2.8667\n",
      "  epoch 50: fold=2.8003 oof=2.7891\n",
      "  epoch 60: fold=2.7259 oof=2.7153\n",
      "  epoch 70: fold=2.6553 oof=2.6452\n",
      "  epoch 80: fold=2.5882 oof=2.5786\n",
      "  epoch 90: fold=2.5247 oof=2.5156\n",
      "fold 1\n",
      "  epoch 0: fold=2.2838 oof=2.2819\n",
      "  epoch 10: fold=2.2310 oof=2.2296\n",
      "  epoch 20: fold=2.1809 oof=2.1800\n",
      "  epoch 30: fold=2.1337 oof=2.1333\n",
      "  epoch 40: fold=2.0896 oof=2.0896\n",
      "  epoch 50: fold=2.0485 oof=2.0490\n",
      "  epoch 60: fold=2.0103 oof=2.0112\n",
      "  epoch 70: fold=1.9749 oof=1.9763\n",
      "  epoch 80: fold=1.9423 oof=1.9440\n",
      "  epoch 90: fold=1.9121 oof=1.9142\n",
      "fold 2\n",
      "  epoch 0: fold=2.6562 oof=2.6517\n",
      "  epoch 10: fold=2.6415 oof=2.6363\n",
      "  epoch 20: fold=2.6277 oof=2.6219\n",
      "  epoch 30: fold=2.6148 oof=2.6083\n",
      "  epoch 40: fold=2.6023 oof=2.5954\n",
      "  epoch 50: fold=2.5902 oof=2.5830\n",
      "  epoch 60: fold=2.5784 oof=2.5709\n",
      "  epoch 70: fold=2.5666 oof=2.5590\n",
      "  epoch 80: fold=2.5550 oof=2.5473\n",
      "  epoch 90: fold=2.5434 oof=2.5357\n",
      "fold 3\n",
      "  epoch 0: fold=2.3646 oof=2.3563\n",
      "  epoch 10: fold=2.3081 oof=2.2997\n",
      "  epoch 20: fold=2.2544 oof=2.2460\n",
      "  epoch 30: fold=2.2039 oof=2.1955\n",
      "  epoch 40: fold=2.1566 oof=2.1482\n",
      "  epoch 50: fold=2.1125 oof=2.1041\n",
      "  epoch 60: fold=2.0716 oof=2.0631\n",
      "  epoch 70: fold=2.0337 oof=2.0252\n",
      "  epoch 80: fold=1.9987 oof=1.9902\n",
      "  epoch 90: fold=1.9664 oof=1.9578\n",
      "fold 4\n",
      "  epoch 0: fold=2.5474 oof=2.5674\n",
      "  epoch 10: fold=2.5294 oof=2.5490\n",
      "  epoch 20: fold=2.5121 oof=2.5314\n",
      "  epoch 30: fold=2.4955 oof=2.5144\n",
      "  epoch 40: fold=2.4794 oof=2.4980\n",
      "  epoch 50: fold=2.4637 oof=2.4821\n",
      "  epoch 60: fold=2.4484 oof=2.4666\n",
      "  epoch 70: fold=2.4334 oof=2.4513\n",
      "  epoch 80: fold=2.4187 oof=2.4364\n",
      "  epoch 90: fold=2.4042 oof=2.4217\n",
      "\n",
      "Score: 0.4167\n"
     ]
    }
   ],
   "source": [
    "import torch.nn.functional as F\n",
    "\n",
    "n_epochs = 100\n",
    "hidden_size = 64\n",
    "loss_fn = torch.nn.MSELoss()\n",
    "\n",
    "y_pred_oof = torch.zeros(\n",
    "    y.shape[0],\n",
    "    dtype=torch.float32,\n",
    "    requires_grad=False,\n",
    "    device=device,\n",
    ")\n",
    "\n",
    "for fold_n, (i_fold, i_oof) in enumerate(kfold.split(X_df.index), 1):\n",
    "    print(f\"\\nfold {fold_n}\")\n",
    "\n",
    "    weights1 = 0.1 * torch.randn(X_df.shape[1], hidden_size, device=device)\n",
    "    bias1 = torch.zeros(hidden_size, requires_grad=True, device=device)\n",
    "    weights2 = 0.1 * torch.randn(hidden_size, 1, device=device)\n",
    "    bias2 = torch.zeros(y_df.shape[1], requires_grad=True, device=device)\n",
    "    optimizer = torch.optim.Adam([weights1, bias1, weights2, bias2])\n",
    "\n",
    "    for epoch_n in range(1, n_epochs + 1):\n",
    "        y_pred_fold_epoch = F.relu(X[i_fold] @ weights1 + bias1) @ weights2 + bias2\n",
    "        loss_fold_epoch = loss_fn(y_pred_fold_epoch, y[i_fold].view(-1, 1))\n",
    "        optimizer.zero_grad()\n",
    "        loss_fold_epoch.backward()\n",
    "        optimizer.step()\n",
    "\n",
    "        with torch.no_grad():\n",
    "            y_pred_oof_epoch = F.relu(X[i_oof] @ weights1 + bias1) @ weights2 + bias2\n",
    "            loss_oof_epoch = loss_fn(y_pred_oof_epoch, y[i_oof].view(-1, 1))\n",
    "\n",
    "        if epoch_n % (n_epochs // 10) == 0:\n",
    "            print(\n",
    "                f\"  epoch {epoch_n:>6}: \"\n",
    "                f\"fold={loss_fold_epoch.item():.4f} \"\n",
    "                f\"oof={loss_oof_epoch.item():.4f}\"\n",
    "            )\n",
    "\n",
    "    with torch.no_grad():\n",
    "        y_pred_oof[i_oof] = (\n",
    "            F.relu(X[i_oof] @ weights1 + bias1) @ weights2 + bias2\n",
    "        ).flatten()\n",
    "\n",
    "y_pred_oof = scaler_y.inverse_transform(\n",
    "    y_pred_oof.cpu().numpy().reshape(-1, 1)\n",
    ").flatten()\n",
    "score = brier_score(y_pred_oof, y_df.squeeze())\n",
    "print(f\"\\nScore: {score.item():.4f}\")"
   ]
  },
  {
   "cell_type": "code",
   "execution_count": null,
   "id": "b0b4b5b9-c1f0-4eae-81ca-ef7cff7a953e",
   "metadata": {},
   "outputs": [],
   "source": []
  }
 ],
 "metadata": {
  "kernelspec": {
   "display_name": "Python 3 (ipykernel)",
   "language": "python",
   "name": "python3"
  },
  "language_info": {
   "codemirror_mode": {
    "name": "ipython",
    "version": 3
   },
   "file_extension": ".py",
   "mimetype": "text/x-python",
   "name": "python",
   "nbconvert_exporter": "python",
   "pygments_lexer": "ipython3",
   "version": "3.11.9"
  }
 },
 "nbformat": 4,
 "nbformat_minor": 5
}
