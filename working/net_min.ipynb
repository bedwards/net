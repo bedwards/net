{
 "cells": [
  {
   "cell_type": "code",
   "execution_count": 21,
   "id": "458cd0af-6927-4308-935a-f9f1506ebbd4",
   "metadata": {
    "execution": {
     "iopub.execute_input": "2025-03-10T03:08:08.354429Z",
     "iopub.status.busy": "2025-03-10T03:08:08.352600Z",
     "iopub.status.idle": "2025-03-10T03:08:08.778808Z",
     "shell.execute_reply": "2025-03-10T03:08:08.775160Z",
     "shell.execute_reply.started": "2025-03-10T03:08:08.354379Z"
    }
   },
   "outputs": [],
   "source": [
    "%reset -f\n",
    "\n",
    "import numpy as np\n",
    "import pandas as pd\n",
    "from sklearn.preprocessing import StandardScaler\n",
    "from sklearn.model_selection import KFold\n",
    "import xgboost as xgb\n",
    "import torch\n",
    "import torch.nn.functional as F"
   ]
  },
  {
   "cell_type": "code",
   "execution_count": 22,
   "id": "42253032-3183-49cc-b3f0-a1ab1f97763b",
   "metadata": {
    "execution": {
     "iopub.execute_input": "2025-03-10T03:08:08.780690Z",
     "iopub.status.busy": "2025-03-10T03:08:08.780453Z",
     "iopub.status.idle": "2025-03-10T03:08:22.463454Z",
     "shell.execute_reply": "2025-03-10T03:08:22.462466Z",
     "shell.execute_reply.started": "2025-03-10T03:08:08.780667Z"
    }
   },
   "outputs": [],
   "source": [
    "train = pd.read_csv(\"../datasets/net/train.csv\")\n",
    "train = pd.concat(\n",
    "    [\n",
    "        train.select_dtypes(\"int64\").astype(\"int32\"),\n",
    "        train.select_dtypes(\"float64\").astype(\"float32\"),\n",
    "    ],\n",
    "    axis=1,\n",
    ")"
   ]
  },
  {
   "cell_type": "code",
   "execution_count": 23,
   "id": "7858204b-5a5e-4341-a673-fb6365e73b7c",
   "metadata": {
    "execution": {
     "iopub.execute_input": "2025-03-10T03:08:22.465476Z",
     "iopub.status.busy": "2025-03-10T03:08:22.464669Z",
     "iopub.status.idle": "2025-03-10T03:08:22.471314Z",
     "shell.execute_reply": "2025-03-10T03:08:22.470075Z",
     "shell.execute_reply.started": "2025-03-10T03:08:22.465437Z"
    }
   },
   "outputs": [],
   "source": [
    "def margin_to_prob(margin):\n",
    "    return 1 / (1 + np.exp(-margin * 0.25))\n",
    "\n",
    "\n",
    "def brier_score(y_pred, y_true):\n",
    "    probs = margin_to_prob(y_pred)\n",
    "    outcomes = (y_true > 0).astype(float)\n",
    "    return np.mean((probs - outcomes) ** 2)"
   ]
  },
  {
   "cell_type": "code",
   "execution_count": 24,
   "id": "f3e879e1-b95d-499b-9638-8e0abd74f7ed",
   "metadata": {
    "execution": {
     "iopub.execute_input": "2025-03-10T03:08:22.472885Z",
     "iopub.status.busy": "2025-03-10T03:08:22.472568Z",
     "iopub.status.idle": "2025-03-10T03:08:23.883312Z",
     "shell.execute_reply": "2025-03-10T03:08:23.882397Z",
     "shell.execute_reply.started": "2025-03-10T03:08:22.472861Z"
    }
   },
   "outputs": [],
   "source": [
    "X_ = train.drop(columns=[\"Season\", \"DayNum\", \"TeamID_1\", \"TeamID_2\", \"Margin\"])\n",
    "X_ = X_.values\n",
    "X_ = StandardScaler().fit_transform(X_)\n",
    "\n",
    "y_orig = train[\"Margin\"].values\n",
    "y_scaler = StandardScaler()\n",
    "y_ = y_scaler.fit_transform(y_orig.reshape(-1, 1)).flatten()"
   ]
  },
  {
   "cell_type": "code",
   "execution_count": 25,
   "id": "81f1139c-16da-45af-a17d-4be7bfe8937c",
   "metadata": {
    "execution": {
     "iopub.execute_input": "2025-03-10T03:08:23.885488Z",
     "iopub.status.busy": "2025-03-10T03:08:23.885203Z",
     "iopub.status.idle": "2025-03-10T03:08:23.890339Z",
     "shell.execute_reply": "2025-03-10T03:08:23.888977Z",
     "shell.execute_reply.started": "2025-03-10T03:08:23.885465Z"
    }
   },
   "outputs": [],
   "source": [
    "n_folds = 5\n",
    "kfold = KFold(n_splits=n_folds, shuffle=True, random_state=42)"
   ]
  },
  {
   "cell_type": "code",
   "execution_count": 26,
   "id": "3be35533-68ab-4ec9-b81e-2e926ee9c6e4",
   "metadata": {
    "execution": {
     "iopub.execute_input": "2025-03-10T03:08:23.891592Z",
     "iopub.status.busy": "2025-03-10T03:08:23.891380Z",
     "iopub.status.idle": "2025-03-10T03:08:45.149398Z",
     "shell.execute_reply": "2025-03-10T03:08:45.148455Z",
     "shell.execute_reply.started": "2025-03-10T03:08:23.891571Z"
    }
   },
   "outputs": [
    {
     "name": "stdout",
     "output_type": "stream",
     "text": [
      "XGBoost Fold 0\n",
      "[0]\ttrain-rmse:1.05585\tval-rmse:1.05300\n",
      "[20]\ttrain-rmse:0.67893\tval-rmse:0.68792\n",
      "[40]\ttrain-rmse:0.65346\tval-rmse:0.66797\n",
      "[60]\ttrain-rmse:0.64706\tval-rmse:0.66618\n",
      "[80]\ttrain-rmse:0.64267\tval-rmse:0.66669\n",
      "[81]\ttrain-rmse:0.64246\tval-rmse:0.66673\n",
      "XGBoost Fold 1\n",
      "[0]\ttrain-rmse:1.05346\tval-rmse:1.06382\n",
      "[20]\ttrain-rmse:0.67858\tval-rmse:0.68911\n",
      "[40]\ttrain-rmse:0.65331\tval-rmse:0.66789\n",
      "[60]\ttrain-rmse:0.64678\tval-rmse:0.66624\n",
      "[80]\ttrain-rmse:0.64234\tval-rmse:0.66622\n",
      "[92]\ttrain-rmse:0.64009\tval-rmse:0.66656\n",
      "XGBoost Fold 2\n",
      "[0]\ttrain-rmse:1.05485\tval-rmse:1.05656\n",
      "[20]\ttrain-rmse:0.67824\tval-rmse:0.68806\n",
      "[40]\ttrain-rmse:0.65281\tval-rmse:0.66923\n",
      "[60]\ttrain-rmse:0.64615\tval-rmse:0.66806\n",
      "[77]\ttrain-rmse:0.64224\tval-rmse:0.66829\n",
      "XGBoost Fold 3\n",
      "[0]\ttrain-rmse:1.05660\tval-rmse:1.04964\n",
      "[20]\ttrain-rmse:0.67885\tval-rmse:0.68365\n",
      "[40]\ttrain-rmse:0.65304\tval-rmse:0.66599\n",
      "[60]\ttrain-rmse:0.64645\tval-rmse:0.66521\n",
      "[71]\ttrain-rmse:0.64381\tval-rmse:0.66545\n",
      "XGBoost Fold 4\n",
      "[0]\ttrain-rmse:1.05540\tval-rmse:1.05549\n",
      "[20]\ttrain-rmse:0.67861\tval-rmse:0.68723\n",
      "[40]\ttrain-rmse:0.65298\tval-rmse:0.66781\n",
      "[60]\ttrain-rmse:0.64670\tval-rmse:0.66647\n",
      "[79]\ttrain-rmse:0.64249\tval-rmse:0.66691\n",
      "XGBoost score: 0.1644\n"
     ]
    }
   ],
   "source": [
    "y_pred_oof = np.zeros(y_.shape[0])\n",
    "\n",
    "for fold_n, (i_fold, i_oof) in enumerate(kfold.split(X_)):\n",
    "    print(f\"XGBoost Fold {fold_n}\")\n",
    "\n",
    "    dtrain = xgb.DMatrix(X_[i_fold], label=y_[i_fold])\n",
    "    dval = xgb.DMatrix(X_[i_oof], label=y_[i_oof])\n",
    "\n",
    "    params = {\n",
    "        \"objective\": \"reg:squarederror\",\n",
    "        \"eval_metric\": \"rmse\",\n",
    "        \"eta\": 0.1,\n",
    "        \"max_depth\": 6,\n",
    "        \"subsample\": 0.8,\n",
    "        \"colsample_bytree\": 0.8,\n",
    "        \"tree_method\": \"gpu_hist\",\n",
    "        \"gpu_id\": 0,\n",
    "    }\n",
    "\n",
    "    model = xgb.train(\n",
    "        params,\n",
    "        dtrain,\n",
    "        num_boost_round=100,\n",
    "        evals=[(dtrain, \"train\"), (dval, \"val\")],\n",
    "        early_stopping_rounds=20,\n",
    "        verbose_eval=20,\n",
    "    )\n",
    "\n",
    "    y_pred_oof[i_oof] = model.predict(dval)\n",
    "\n",
    "y_pred_oof = y_scaler.inverse_transform(y_pred_oof.reshape(-1, 1)).flatten()\n",
    "score = brier_score(y_pred_oof, y_orig)\n",
    "print(f\"XGBoost score: {score:.4f}\")"
   ]
  },
  {
   "cell_type": "code",
   "execution_count": 27,
   "id": "dcc34dfd-2e81-4f96-ba66-ab8b493224e2",
   "metadata": {
    "execution": {
     "iopub.execute_input": "2025-03-10T03:08:45.150818Z",
     "iopub.status.busy": "2025-03-10T03:08:45.150340Z",
     "iopub.status.idle": "2025-03-10T03:08:45.204028Z",
     "shell.execute_reply": "2025-03-10T03:08:45.203377Z",
     "shell.execute_reply.started": "2025-03-10T03:08:45.150795Z"
    }
   },
   "outputs": [],
   "source": [
    "X = torch.as_tensor(X_, dtype=torch.float32, device=\"cuda\")\n",
    "y = torch.as_tensor(y_, dtype=torch.float32, device=\"cuda\")"
   ]
  },
  {
   "cell_type": "code",
   "execution_count": null,
   "id": "c3cda441-8b73-436a-9440-75938aab5482",
   "metadata": {
    "execution": {
     "iopub.execute_input": "2025-03-10T03:11:24.044518Z",
     "iopub.status.busy": "2025-03-10T03:11:24.044183Z"
    }
   },
   "outputs": [
    {
     "name": "stdout",
     "output_type": "stream",
     "text": [
      "Fold 0\n",
      "  Epoch 0, Train Loss: 2.4914, Val Loss: 2.4810\n"
     ]
    }
   ],
   "source": [
    "hidden_size = 64\n",
    "loss_fn = torch.nn.MSELoss()\n",
    "n_epochs = 10_000\n",
    "y_pred_oof = torch.zeros(y.shape[0], requires_grad=False, device=\"cuda\")\n",
    "\n",
    "for fold_n, (i_fold, i_oof) in enumerate(kfold.split(X)):\n",
    "    print(f\"Fold {fold_n}\")\n",
    "\n",
    "    weights1 = torch.randn(X.shape[1], hidden_size, device=\"cuda\") * 0.1\n",
    "    bias1 = torch.zeros(hidden_size, requires_grad=True, device=\"cuda\")\n",
    "    weights2 = torch.randn(hidden_size, 1, device=\"cuda\") * 0.1\n",
    "    bias2 = torch.zeros(1, requires_grad=True, device=\"cuda\")\n",
    "    optimizer = torch.optim.Adam([weights1, bias1, weights2, bias2], lr=0.001)\n",
    "\n",
    "    for epoch in range(n_epochs):\n",
    "        y_pred = F.relu(X[i_fold] @ weights1 + bias1) @ weights2 + bias2\n",
    "        loss = loss_fn(y_pred, y[i_fold].view(-1, 1))\n",
    "        optimizer.zero_grad()\n",
    "        loss.backward()\n",
    "        optimizer.step()\n",
    "\n",
    "        with torch.no_grad():\n",
    "            val_pred = F.relu(X[i_oof] @ weights1 + bias1) @ weights2 + bias2\n",
    "            val_loss = loss_fn(val_pred, y[i_oof].view(-1, 1))\n",
    "\n",
    "        if epoch % (n_epochs // 10) == 0:\n",
    "            print(\n",
    "                f\"  Epoch {epoch}, Train Loss: {loss.item():.4f}, Val Loss: {val_loss.item():.4f}\"\n",
    "            )\n",
    "\n",
    "    with torch.no_grad():\n",
    "        y_pred_oof[i_oof] = (\n",
    "            F.relu(X[i_oof] @ weights1 + bias1) @ weights2 + bias2\n",
    "        ).flatten()\n",
    "\n",
    "y_pred_oof = y_scaler.inverse_transform(\n",
    "    y_pred_oof.cpu().numpy().reshape(-1, 1)\n",
    ").flatten()\n",
    "score = brier_score(y_pred_oof, y_orig)\n",
    "print(f\"Score: {score.item():.4f}\")"
   ]
  },
  {
   "cell_type": "code",
   "execution_count": null,
   "id": "51902515-0142-4aeb-8b49-74d80577828c",
   "metadata": {},
   "outputs": [],
   "source": []
  },
  {
   "cell_type": "code",
   "execution_count": null,
   "id": "0d30621d-0136-4771-b51e-a094a54901d5",
   "metadata": {},
   "outputs": [],
   "source": []
  }
 ],
 "metadata": {
  "kernelspec": {
   "display_name": "Python 3 (ipykernel)",
   "language": "python",
   "name": "python3"
  },
  "language_info": {
   "codemirror_mode": {
    "name": "ipython",
    "version": 3
   },
   "file_extension": ".py",
   "mimetype": "text/x-python",
   "name": "python",
   "nbconvert_exporter": "python",
   "pygments_lexer": "ipython3",
   "version": "3.11.9"
  }
 },
 "nbformat": 4,
 "nbformat_minor": 5
}
