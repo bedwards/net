{
 "cells": [
  {
   "cell_type": "code",
   "execution_count": 1,
   "id": "7c831638-c357-474c-9913-326593f9d1d9",
   "metadata": {
    "execution": {
     "iopub.execute_input": "2025-03-11T02:32:01.508884Z",
     "iopub.status.busy": "2025-03-11T02:32:01.508260Z",
     "iopub.status.idle": "2025-03-11T02:32:09.911338Z",
     "shell.execute_reply": "2025-03-11T02:32:09.907706Z",
     "shell.execute_reply.started": "2025-03-11T02:32:01.508739Z"
    }
   },
   "outputs": [],
   "source": [
    "import os\n",
    "import numpy as np\n",
    "import pandas as pd\n",
    "import xgboost as xgb\n",
    "import torch\n",
    "import torch.nn.functional as F\n",
    "from sklearn.preprocessing import StandardScaler\n",
    "from sklearn.model_selection import KFold\n",
    "\n",
    "if torch.cuda.is_available():\n",
    "    device = \"cuda\"\n",
    "else:\n",
    "    device = \"cpu\"\n",
    "    os.environ[\"OMP_NUM_THREADS\"] = \"1\"\n",
    "    torch.set_num_threads(1)\n",
    "\n",
    "kfold = KFold(shuffle=True, random_state=42)"
   ]
  },
  {
   "cell_type": "code",
   "execution_count": 2,
   "id": "33aa42d7-39e8-43f8-9a3f-e46157420e4b",
   "metadata": {
    "execution": {
     "iopub.execute_input": "2025-03-11T02:32:09.917706Z",
     "iopub.status.busy": "2025-03-11T02:32:09.915979Z",
     "iopub.status.idle": "2025-03-11T02:32:45.859633Z",
     "shell.execute_reply": "2025-03-11T02:32:45.858445Z",
     "shell.execute_reply.started": "2025-03-11T02:32:09.917608Z"
    }
   },
   "outputs": [
    {
     "name": "stdout",
     "output_type": "stream",
     "text": [
      "reading train.csv\n",
      "\n",
      "train:           (202033, 413)\n"
     ]
    }
   ],
   "source": [
    "print(f\"reading train.csv\")\n",
    "train = pd.read_csv(\"../datasets/net/train.csv\")\n",
    "\n",
    "train = pd.concat(\n",
    "    [\n",
    "        train.select_dtypes(\"int64\").astype(\"int32\"),\n",
    "        train.select_dtypes(\"float64\").astype(\"float32\"),\n",
    "    ],\n",
    "    axis=1,\n",
    ")\n",
    "\n",
    "print(f\"\\ntrain: {str(train.shape):>23}\")"
   ]
  },
  {
   "cell_type": "code",
   "execution_count": 3,
   "id": "d2927d4b-8b36-4c2b-a795-25cf31f89f93",
   "metadata": {
    "execution": {
     "iopub.execute_input": "2025-03-11T02:32:45.861201Z",
     "iopub.status.busy": "2025-03-11T02:32:45.860882Z",
     "iopub.status.idle": "2025-03-11T02:33:04.455285Z",
     "shell.execute_reply": "2025-03-11T02:33:04.453984Z",
     "shell.execute_reply.started": "2025-03-11T02:32:45.861174Z"
    }
   },
   "outputs": [
    {
     "name": "stdout",
     "output_type": "stream",
     "text": [
      "X_df:            (202033, 408)\n",
      "X:    torch.Size([202033, 408])\n",
      "y_df:            (202033, 1)\n",
      "y:    torch.Size([202033])\n"
     ]
    }
   ],
   "source": [
    "X_df = train.drop(columns=[\"Season\", \"DayNum\", \"TeamID_1\", \"TeamID_2\", \"Margin\"])\n",
    "print(f\"X_df: {str(X_df.shape):>24}\")\n",
    "\n",
    "X = torch.as_tensor(\n",
    "    StandardScaler().fit_transform(X_df.values),\n",
    "    dtype=torch.float32,\n",
    "    device=device,\n",
    ")\n",
    "\n",
    "print(f\"X:    {X.shape}\")\n",
    "\n",
    "y_df = train[[\"Margin\"]]\n",
    "print(f\"y_df: {str(y_df.shape):>22}\")\n",
    "scaler_y = StandardScaler()\n",
    "\n",
    "y = torch.tensor(\n",
    "    scaler_y.fit_transform(y_df).flatten(),\n",
    "    dtype=torch.float32,\n",
    "    device=device,\n",
    ")\n",
    "\n",
    "print(f\"y:    {y.shape}\")"
   ]
  },
  {
   "cell_type": "code",
   "execution_count": 4,
   "id": "a4b9f99f-7e01-41e1-b8d8-94be5d26efa1",
   "metadata": {
    "execution": {
     "iopub.execute_input": "2025-03-11T02:33:04.458512Z",
     "iopub.status.busy": "2025-03-11T02:33:04.457994Z",
     "iopub.status.idle": "2025-03-11T02:33:04.471724Z",
     "shell.execute_reply": "2025-03-11T02:33:04.467727Z",
     "shell.execute_reply.started": "2025-03-11T02:33:04.458463Z"
    }
   },
   "outputs": [],
   "source": [
    "def brier_score(y_pred_np, y_true_df):\n",
    "    pred_win_prob = 1 / (1 + np.exp(-y_pred_np * 0.1))\n",
    "    team_1_won = (y_true_df.squeeze().values > 0).astype(float)\n",
    "    return np.mean((pred_win_prob - team_1_won) ** 2)"
   ]
  },
  {
   "cell_type": "code",
   "execution_count": 5,
   "id": "7742f9cc-5a0a-4cea-a06e-f12e18e03a32",
   "metadata": {
    "execution": {
     "iopub.execute_input": "2025-03-11T02:33:04.476091Z",
     "iopub.status.busy": "2025-03-11T02:33:04.474098Z",
     "iopub.status.idle": "2025-03-11T02:33:31.884342Z",
     "shell.execute_reply": "2025-03-11T02:33:31.879445Z",
     "shell.execute_reply.started": "2025-03-11T02:33:04.476001Z"
    }
   },
   "outputs": [
    {
     "name": "stdout",
     "output_type": "stream",
     "text": [
      "xgboost\n",
      "  fold 1\n",
      "[0]\tfold-rmse:14.37691\toof-rmse:14.47013\n",
      "[1]\tfold-rmse:13.06497\toof-rmse:13.18169\n",
      "[2]\tfold-rmse:12.26574\toof-rmse:12.40069\n",
      "[3]\tfold-rmse:11.78441\toof-rmse:11.94179\n",
      "[4]\tfold-rmse:11.47450\toof-rmse:11.65231\n",
      "[5]\tfold-rmse:11.27353\toof-rmse:11.46340\n",
      "[6]\tfold-rmse:11.13629\toof-rmse:11.34290\n",
      "[7]\tfold-rmse:11.04355\toof-rmse:11.26369\n",
      "[8]\tfold-rmse:10.97402\toof-rmse:11.20991\n",
      "[9]\tfold-rmse:10.92515\toof-rmse:11.18040\n",
      "\n",
      "  fold 2\n",
      "[0]\tfold-rmse:14.37950\toof-rmse:14.41955\n",
      "[1]\tfold-rmse:13.06958\toof-rmse:13.12387\n",
      "[2]\tfold-rmse:12.27561\toof-rmse:12.34734\n",
      "[3]\tfold-rmse:11.79247\toof-rmse:11.87604\n",
      "[4]\tfold-rmse:11.48247\toof-rmse:11.58133\n",
      "[5]\tfold-rmse:11.28185\toof-rmse:11.38719\n",
      "[6]\tfold-rmse:11.14640\toof-rmse:11.26985\n",
      "[7]\tfold-rmse:11.05062\toof-rmse:11.18991\n",
      "[8]\tfold-rmse:10.98461\toof-rmse:11.13828\n",
      "[9]\tfold-rmse:10.93357\toof-rmse:11.10145\n",
      "\n",
      "  fold 3\n",
      "[0]\tfold-rmse:14.37980\toof-rmse:14.41704\n",
      "[1]\tfold-rmse:13.08908\toof-rmse:13.16835\n",
      "[2]\tfold-rmse:12.27070\toof-rmse:12.37035\n",
      "[3]\tfold-rmse:11.77818\toof-rmse:11.89763\n",
      "[4]\tfold-rmse:11.47501\toof-rmse:11.62079\n",
      "[5]\tfold-rmse:11.28153\toof-rmse:11.44424\n",
      "[6]\tfold-rmse:11.15003\toof-rmse:11.32647\n",
      "[7]\tfold-rmse:11.04836\toof-rmse:11.23868\n",
      "[8]\tfold-rmse:10.98136\toof-rmse:11.18543\n",
      "[9]\tfold-rmse:10.93431\toof-rmse:11.14999\n",
      "\n",
      "  fold 4\n",
      "[0]\tfold-rmse:14.39180\toof-rmse:14.32560\n",
      "[1]\tfold-rmse:13.08738\toof-rmse:13.07616\n",
      "[2]\tfold-rmse:12.28062\toof-rmse:12.30161\n",
      "[3]\tfold-rmse:11.79244\toof-rmse:11.84008\n",
      "[4]\tfold-rmse:11.48058\toof-rmse:11.55537\n",
      "[5]\tfold-rmse:11.28227\toof-rmse:11.38059\n",
      "[6]\tfold-rmse:11.14482\toof-rmse:11.26346\n",
      "[7]\tfold-rmse:11.04916\toof-rmse:11.18759\n",
      "[8]\tfold-rmse:10.98364\toof-rmse:11.14192\n",
      "[9]\tfold-rmse:10.93436\toof-rmse:11.10624\n",
      "\n",
      "  fold 5\n",
      "[0]\tfold-rmse:14.40060\toof-rmse:14.43940\n",
      "[1]\tfold-rmse:13.09054\toof-rmse:13.15637\n",
      "[2]\tfold-rmse:12.27573\toof-rmse:12.36175\n",
      "[3]\tfold-rmse:11.78286\toof-rmse:11.89750\n",
      "[4]\tfold-rmse:11.47332\toof-rmse:11.60062\n",
      "[5]\tfold-rmse:11.28073\toof-rmse:11.41922\n",
      "[6]\tfold-rmse:11.13948\toof-rmse:11.29112\n",
      "[7]\tfold-rmse:11.04103\toof-rmse:11.20773\n",
      "[8]\tfold-rmse:10.97372\toof-rmse:11.15453\n",
      "[9]\tfold-rmse:10.92747\toof-rmse:11.12282\n",
      "\n",
      "  score: 0.1686\n"
     ]
    }
   ],
   "source": [
    "print(f\"xgboost\")\n",
    "y_pred_oof = np.zeros(y_df.shape[0])\n",
    "\n",
    "if device == \"cuda\":\n",
    "    params = {\n",
    "        \"tree_method\": \"gpu_hist\",\n",
    "        \"gpu_id\": 0,\n",
    "    }\n",
    "else:\n",
    "    params = {\n",
    "        \"tree_method\": \"hist\",\n",
    "        \"nthread\": 1,\n",
    "    }\n",
    "\n",
    "for fold_n, (i_fold, i_oof) in enumerate(kfold.split(X_df.index), 1):\n",
    "    print(f\"  fold {fold_n}\")\n",
    "    dm_fold = xgb.DMatrix(X_df.iloc[i_fold], label=y_df.iloc[i_fold])\n",
    "    dm_oof = xgb.DMatrix(X_df.iloc[i_oof], label=y_df.iloc[i_oof])\n",
    "\n",
    "    m = xgb.train(\n",
    "        params,\n",
    "        dm_fold,\n",
    "        evals=[(dm_fold, \"fold\"), (dm_oof, \"oof\")],\n",
    "    )\n",
    "\n",
    "    y_pred_oof[i_oof] = m.predict(dm_oof)\n",
    "    print()\n",
    "\n",
    "score = brier_score(y_pred_oof, y_df)\n",
    "print(f\"  score: {score:.4f}\")"
   ]
  },
  {
   "cell_type": "code",
   "execution_count": 6,
   "id": "5da53c98-c616-4e83-9e0d-0d732e0eeb59",
   "metadata": {
    "execution": {
     "iopub.execute_input": "2025-03-11T02:33:31.891459Z",
     "iopub.status.busy": "2025-03-11T02:33:31.890173Z",
     "iopub.status.idle": "2025-03-11T02:35:55.431673Z",
     "shell.execute_reply": "2025-03-11T02:35:55.430251Z",
     "shell.execute_reply.started": "2025-03-11T02:33:31.891291Z"
    }
   },
   "outputs": [
    {
     "name": "stdout",
     "output_type": "stream",
     "text": [
      "torch\n",
      "  fold 1\n",
      "    epoch    998: fold=0.4254 oof=0.4504\n",
      "    epoch    999: fold=0.4254 oof=0.4504\n",
      "    epoch   1000: fold=0.4254 oof=0.4504\n",
      "\n",
      "  fold 2\n",
      "    epoch    998: fold=0.4280 oof=0.4437\n",
      "    epoch    999: fold=0.4280 oof=0.4437\n",
      "    epoch   1000: fold=0.4280 oof=0.4437\n",
      "\n",
      "  fold 3\n",
      "    epoch    998: fold=0.4257 oof=0.4465\n",
      "    epoch    999: fold=0.4257 oof=0.4465\n",
      "    epoch   1000: fold=0.4257 oof=0.4465\n",
      "\n",
      "  fold 4\n",
      "    epoch    998: fold=0.4264 oof=0.4455\n",
      "    epoch    999: fold=0.4263 oof=0.4455\n",
      "    epoch   1000: fold=0.4263 oof=0.4455\n",
      "\n",
      "  fold 5\n",
      "    epoch    998: fold=0.4253 oof=0.4453\n",
      "    epoch    999: fold=0.4252 oof=0.4454\n",
      "    epoch   1000: fold=0.4252 oof=0.4454\n",
      "\n",
      "  score: 0.1658\n"
     ]
    }
   ],
   "source": [
    "print(\"torch\")\n",
    "n_epochs = 1_000\n",
    "hidden_size = 64\n",
    "loss_fn = torch.nn.MSELoss()\n",
    "\n",
    "y_pred_oof = torch.zeros(\n",
    "    y.shape[0],\n",
    "    dtype=torch.float32,\n",
    "    requires_grad=False,\n",
    "    device=device,\n",
    ")\n",
    "\n",
    "for fold_n, (i_fold, i_oof) in enumerate(kfold.split(X_df.index), 1):\n",
    "    print(f\"  fold {fold_n}\")\n",
    "\n",
    "    weights1 = torch.nn.Parameter(\n",
    "        0.1 * torch.randn(X_df.shape[1], hidden_size, device=device)\n",
    "    )\n",
    "    bias1 = torch.nn.Parameter(torch.zeros(hidden_size, device=device))\n",
    "    weights2 = torch.nn.Parameter(0.1 * torch.randn(hidden_size, 1, device=device))\n",
    "    bias2 = torch.nn.Parameter(torch.zeros(y_df.shape[1], device=device))\n",
    "    optimizer = torch.optim.Adam([weights1, bias1, weights2, bias2], weight_decay=1e-4)\n",
    "\n",
    "    for epoch_n in range(1, n_epochs + 1):\n",
    "        y_pred_fold_epoch = F.relu(X[i_fold] @ weights1 + bias1) @ weights2 + bias2\n",
    "        loss_fold_epoch = loss_fn(y_pred_fold_epoch, y[i_fold].view(-1, 1))\n",
    "        optimizer.zero_grad()\n",
    "        loss_fold_epoch.backward()\n",
    "        optimizer.step()\n",
    "\n",
    "        with torch.no_grad():\n",
    "            y_pred_oof_epoch = F.relu(X[i_oof] @ weights1 + bias1) @ weights2 + bias2\n",
    "            loss_oof_epoch = loss_fn(y_pred_oof_epoch, y[i_oof].view(-1, 1))\n",
    "\n",
    "        if epoch_n > (n_epochs - 3):\n",
    "            print(\n",
    "                f\"    epoch {epoch_n:>6}: \"\n",
    "                f\"fold={loss_fold_epoch.item():.4f} \"\n",
    "                f\"oof={loss_oof_epoch.item():.4f}\"\n",
    "            )\n",
    "\n",
    "    with torch.no_grad():\n",
    "        y_pred_oof[i_oof] = (\n",
    "            F.relu(X[i_oof] @ weights1 + bias1) @ weights2 + bias2\n",
    "        ).flatten()\n",
    "\n",
    "    print()\n",
    "\n",
    "y_pred_oof = scaler_y.inverse_transform(\n",
    "    y_pred_oof.cpu().numpy().reshape(-1, 1)\n",
    ").flatten()\n",
    "\n",
    "score = brier_score(y_pred_oof, y_df)\n",
    "print(f\"  score: {score:.4f}\")"
   ]
  },
  {
   "cell_type": "code",
   "execution_count": null,
   "id": "b0b4b5b9-c1f0-4eae-81ca-ef7cff7a953e",
   "metadata": {},
   "outputs": [],
   "source": []
  }
 ],
 "metadata": {
  "kernelspec": {
   "display_name": "Python 3 (ipykernel)",
   "language": "python",
   "name": "python3"
  },
  "language_info": {
   "codemirror_mode": {
    "name": "ipython",
    "version": 3
   },
   "file_extension": ".py",
   "mimetype": "text/x-python",
   "name": "python",
   "nbconvert_exporter": "python",
   "pygments_lexer": "ipython3",
   "version": "3.11.7"
  }
 },
 "nbformat": 4,
 "nbformat_minor": 5
}
