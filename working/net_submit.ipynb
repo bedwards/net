{
 "cells": [
  {
   "cell_type": "code",
   "execution_count": 1,
   "id": "29c645bd-39d2-4911-9f33-14863024c7d8",
   "metadata": {},
   "outputs": [
    {
     "name": "stdout",
     "output_type": "stream",
     "text": [
      "SampleSubmissionStage2: (131407, 3)\n"
     ]
    }
   ],
   "source": [
    "try:\n",
    "    del input_dir, data_dir, SampleSubmissionStage2\n",
    "except NameError:\n",
    "    pass\n",
    "\n",
    "import numpy as np\n",
    "import pandas as pd\n",
    "\n",
    "input_dir = \"../datasets\"\n",
    "data_dir = f\"{input_dir}/march-machine-learning-mania-2025\"\n",
    "SampleSubmissionStage2 = pd.read_csv(f\"{data_dir}/SampleSubmissionStage2.csv\")\n",
    "\n",
    "SampleSubmissionStage2[[\"Season\", \"TeamID_1\", \"TeamID_2\"]] = (\n",
    "    SampleSubmissionStage2[\"ID\"].str.split(\"_\", expand=True).astype(\"int32\")\n",
    ")\n",
    "\n",
    "SampleSubmissionStage2 = SampleSubmissionStage2.drop(columns=\"ID\")\n",
    "SampleSubmissionStage2 = SampleSubmissionStage2.drop(columns=\"Pred\")\n",
    "print(f\"SampleSubmissionStage2: {SampleSubmissionStage2.shape}\")"
   ]
  },
  {
   "cell_type": "code",
   "execution_count": 2,
   "id": "161fad83-c9c6-46d1-958a-bdc9715f131f",
   "metadata": {},
   "outputs": [
    {
     "name": "stdout",
     "output_type": "stream",
     "text": [
      "reading season_2025.csv\n",
      "train:              (726, 206)\n"
     ]
    }
   ],
   "source": [
    "try:\n",
    "    del season_2025\n",
    "except NameError:\n",
    "    pass\n",
    "\n",
    "print(f\"reading season_2025.csv\")\n",
    "season_2025 = pd.read_csv(f\"{input_dir}/net/season_2025.csv\")\n",
    "\n",
    "season_2025 = pd.concat(\n",
    "    [\n",
    "        season_2025.select_dtypes(\"int64\").astype(\"int32\"),\n",
    "        season_2025.select_dtypes(\"float64\").astype(\"float32\"),\n",
    "    ],\n",
    "    axis=1,\n",
    ")\n",
    "\n",
    "print(f\"train: {str(season_2025.shape):>23}\")"
   ]
  },
  {
   "cell_type": "code",
   "execution_count": 3,
   "id": "65ef62ea-0b51-499f-bf56-eed519a5a036",
   "metadata": {},
   "outputs": [
    {
     "name": "stdout",
     "output_type": "stream",
     "text": [
      "['Season', 'TeamID_1', 'TeamID_2']\n",
      "['Season', 'TeamID', 'Score_pg_o', 'Score_poss_o', 'FGM_pg_o', 'FGM_poss_o', 'FGA_pg_o']\n"
     ]
    }
   ],
   "source": [
    "print(SampleSubmissionStage2.columns.to_list())\n",
    "print(season_2025.columns.to_list()[:7])"
   ]
  },
  {
   "cell_type": "code",
   "execution_count": 4,
   "id": "37b49e6f-8679-46bb-accd-067fd61842de",
   "metadata": {},
   "outputs": [
    {
     "name": "stdout",
     "output_type": "stream",
     "text": [
      "['Season', 'TeamID_1', 'TeamID_2', 'Score_pg_o_1', 'Score_poss_o_1', 'FGM_pg_o_1', 'FGM_poss_o_1']\n",
      "['sos_FGPct_diff_2', 'sos_FGPct3_diff_2', 'sos_FTPct_diff_2', 'sos_AstPct_diff_2', 'sos_AstTO_diff_2']\n"
     ]
    }
   ],
   "source": [
    "try:\n",
    "    del sub\n",
    "except NameError:\n",
    "    pass\n",
    "\n",
    "sub = pd.merge(\n",
    "    SampleSubmissionStage2,\n",
    "    season_2025,\n",
    "    left_on=[\"Season\", \"TeamID_1\"],\n",
    "    right_on=[\"Season\", \"TeamID\"],\n",
    ")\n",
    "\n",
    "sub = sub.drop(columns=\"TeamID\")\n",
    "\n",
    "sub = sub.rename(\n",
    "    columns={c: f\"{c}_1\" for c in sub if c not in (\"Season\", \"TeamID_1\", \"TeamID_2\")}\n",
    ")\n",
    "\n",
    "sub = pd.merge(\n",
    "    sub,\n",
    "    season_2025,\n",
    "    left_on=[\"Season\", \"TeamID_2\"],\n",
    "    right_on=[\"Season\", \"TeamID\"],\n",
    ")\n",
    "\n",
    "sub = sub.drop(columns=\"TeamID\")\n",
    "\n",
    "sub = sub.rename(\n",
    "    columns={\n",
    "        c: f\"{c}_2\"\n",
    "        for c in sub\n",
    "        if c not in (\"Season\", \"TeamID_1\", \"TeamID_2\") and not c.endswith(\"_1\")\n",
    "    }\n",
    ")\n",
    "\n",
    "print(sub.columns.to_list()[:7])\n",
    "print(sub.columns.to_list()[-5:])"
   ]
  },
  {
   "cell_type": "code",
   "execution_count": null,
   "id": "4c3c6430-0f0b-4257-b203-e5e5ed66ed26",
   "metadata": {},
   "outputs": [],
   "source": []
  }
 ],
 "metadata": {
  "kernelspec": {
   "display_name": "Python 3 (ipykernel)",
   "language": "python",
   "name": "python3"
  },
  "language_info": {
   "codemirror_mode": {
    "name": "ipython",
    "version": 3
   },
   "file_extension": ".py",
   "mimetype": "text/x-python",
   "name": "python",
   "nbconvert_exporter": "python",
   "pygments_lexer": "ipython3",
   "version": "3.11.9"
  }
 },
 "nbformat": 4,
 "nbformat_minor": 5
}
